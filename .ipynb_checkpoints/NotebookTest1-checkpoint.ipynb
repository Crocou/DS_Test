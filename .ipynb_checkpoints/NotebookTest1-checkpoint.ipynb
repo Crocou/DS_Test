{
 "cells": [
  {
   "cell_type": "markdown",
   "id": "235cde75",
   "metadata": {},
   "source": [
    "# Jupyter Notebook 연습\n",
    "\n",
    "## 파이썬 명령어 실습\n",
    "\n",
    "### 수식표현"
   ]
  },
  {
   "cell_type": "markdown",
   "id": "9f3488c5",
   "metadata": {},
   "source": [
    "1. $ 하나만 양쪽에 배치\n",
    "\n",
    "$\\int_0^\\infty \\mathrm{e}^{-x},\\mathrm{d}x$"
   ]
  },
  {
   "cell_type": "markdown",
   "id": "09b3dd35",
   "metadata": {},
   "source": [
    "2. $ 두 개 양쪽에 배치\n",
    "\n",
    "$$\\int_0^\\infty \\mathrm{e}^{-x},\\mathrm{d}x$$"
   ]
  },
  {
   "cell_type": "markdown",
   "id": "5c0c71ef",
   "metadata": {},
   "source": [
    "### 코드 셀"
   ]
  },
  {
   "cell_type": "code",
   "execution_count": null,
   "id": "63af4c13",
   "metadata": {},
   "outputs": [],
   "source": [
    "a = 1\n",
    "b = 2\n",
    "c = 3"
   ]
  },
  {
   "cell_type": "code",
   "execution_count": null,
   "id": "790839e0",
   "metadata": {},
   "outputs": [],
   "source": [
    "for i in range(1000000):\n",
    "    print (i)"
   ]
  },
  {
   "cell_type": "markdown",
   "id": "ae11a468",
   "metadata": {},
   "source": [
    "### Testing mysssl.py"
   ]
  },
  {
   "cell_type": "code",
   "execution_count": 1,
   "id": "63b6439a",
   "metadata": {},
   "outputs": [],
   "source": [
    "from myssl import *"
   ]
  },
  {
   "cell_type": "code",
   "execution_count": 5,
   "id": "5b9497b8",
   "metadata": {},
   "outputs": [],
   "source": [
    "l_list = LinkedList()"
   ]
  },
  {
   "cell_type": "code",
   "execution_count": 7,
   "id": "ada3d734",
   "metadata": {},
   "outputs": [],
   "source": [
    "l_list.append(11)"
   ]
  },
  {
   "cell_type": "code",
   "execution_count": 8,
   "id": "b12a92b7",
   "metadata": {},
   "outputs": [],
   "source": [
    "l_list.append(22)"
   ]
  },
  {
   "cell_type": "code",
   "execution_count": 9,
   "id": "1265970a",
   "metadata": {},
   "outputs": [
    {
     "data": {
      "text/plain": [
       "11"
      ]
     },
     "execution_count": 9,
     "metadata": {},
     "output_type": "execute_result"
    }
   ],
   "source": [
    "l_list.first()"
   ]
  },
  {
   "cell_type": "code",
   "execution_count": 10,
   "id": "06f25d14",
   "metadata": {},
   "outputs": [
    {
     "data": {
      "text/plain": [
       "22"
      ]
     },
     "execution_count": 10,
     "metadata": {},
     "output_type": "execute_result"
    }
   ],
   "source": [
    "l_list.next()"
   ]
  },
  {
   "cell_type": "code",
   "execution_count": 11,
   "id": "94b10a4a",
   "metadata": {},
   "outputs": [
    {
     "data": {
      "text/plain": [
       "2"
      ]
     },
     "execution_count": 11,
     "metadata": {},
     "output_type": "execute_result"
    }
   ],
   "source": [
    "l_list.size()"
   ]
  },
  {
   "cell_type": "code",
   "execution_count": 5,
   "id": "8d15b9bb",
   "metadata": {},
   "outputs": [],
   "source": [
    "from myssl import *\n",
    "l_list = LinkedList()\n",
    "l_list.append(10)\n",
    "l_list.append(20)\n",
    "l_list.append(30)\n",
    "l_list.append(40)\n",
    "l_list.append(50)"
   ]
  },
  {
   "cell_type": "code",
   "execution_count": 6,
   "id": "a673ecd7",
   "metadata": {},
   "outputs": [
    {
     "data": {
      "text/plain": [
       "5"
      ]
     },
     "execution_count": 6,
     "metadata": {},
     "output_type": "execute_result"
    }
   ],
   "source": [
    "l_list.size()"
   ]
  },
  {
   "cell_type": "code",
   "execution_count": 9,
   "id": "12e1414c",
   "metadata": {},
   "outputs": [
    {
     "name": "stdout",
     "output_type": "stream",
     "text": [
      "head -> (10) -> (20) -> (30) -> (40) -> (50) -> null\n"
     ]
    },
    {
     "data": {
      "text/plain": [
       "'head -> (10) -> (20) -> (30) -> (40) -> (50) -> null'"
      ]
     },
     "execution_count": 9,
     "metadata": {},
     "output_type": "execute_result"
    }
   ],
   "source": [
    "l_list.traverse_all()"
   ]
  },
  {
   "cell_type": "markdown",
   "id": "bad3e0fe",
   "metadata": {},
   "source": [
    "# 과제"
   ]
  },
  {
   "cell_type": "markdown",
   "id": "c6d736d3",
   "metadata": {},
   "source": [
    "## myssl 실행결과"
   ]
  },
  {
   "cell_type": "markdown",
   "id": "610a841c",
   "metadata": {},
   "source": [
    "git commit test"
   ]
  },
  {
   "cell_type": "code",
   "execution_count": 10,
   "id": "36f9f691",
   "metadata": {},
   "outputs": [],
   "source": [
    "from myssl import *\n",
    "l_list = LinkedList()\n",
    "l_list.append(10)\n",
    "l_list.append(20)\n",
    "l_list.append(30)\n",
    "l_list.append(40)\n",
    "l_list.append(50)"
   ]
  },
  {
   "cell_type": "code",
   "execution_count": 11,
   "id": "b87fda1f",
   "metadata": {},
   "outputs": [
    {
     "data": {
      "text/plain": [
       "5"
      ]
     },
     "execution_count": 11,
     "metadata": {},
     "output_type": "execute_result"
    }
   ],
   "source": [
    "l_list.size()"
   ]
  },
  {
   "cell_type": "code",
   "execution_count": 12,
   "id": "ce6a9a35",
   "metadata": {},
   "outputs": [
    {
     "name": "stdout",
     "output_type": "stream",
     "text": [
      "head -> (10) -> (20) -> (30) -> (40) -> (50) -> null\n"
     ]
    },
    {
     "data": {
      "text/plain": [
       "'head -> (10) -> (20) -> (30) -> (40) -> (50) -> null'"
      ]
     },
     "execution_count": 12,
     "metadata": {},
     "output_type": "execute_result"
    }
   ],
   "source": [
    "l_list.traverse_all()"
   ]
  },
  {
   "cell_type": "code",
   "execution_count": null,
   "id": "94dea4e2",
   "metadata": {},
   "outputs": [],
   "source": []
  }
 ],
 "metadata": {
  "kernelspec": {
   "display_name": "Python 3 (ipykernel)",
   "language": "python",
   "name": "python3"
  },
  "language_info": {
   "codemirror_mode": {
    "name": "ipython",
    "version": 3
   },
   "file_extension": ".py",
   "mimetype": "text/x-python",
   "name": "python",
   "nbconvert_exporter": "python",
   "pygments_lexer": "ipython3",
   "version": "3.10.9"
  },
  "toc": {
   "base_numbering": 1,
   "nav_menu": {},
   "number_sections": true,
   "sideBar": true,
   "skip_h1_title": false,
   "title_cell": "Table of Contents",
   "title_sidebar": "Contents",
   "toc_cell": false,
   "toc_position": {},
   "toc_section_display": true,
   "toc_window_display": false
  },
  "varInspector": {
   "cols": {
    "lenName": 16,
    "lenType": 16,
    "lenVar": 40
   },
   "kernels_config": {
    "python": {
     "delete_cmd_postfix": "",
     "delete_cmd_prefix": "del ",
     "library": "var_list.py",
     "varRefreshCmd": "print(var_dic_list())"
    },
    "r": {
     "delete_cmd_postfix": ") ",
     "delete_cmd_prefix": "rm(",
     "library": "var_list.r",
     "varRefreshCmd": "cat(var_dic_list()) "
    }
   },
   "types_to_exclude": [
    "module",
    "function",
    "builtin_function_or_method",
    "instance",
    "_Feature"
   ],
   "window_display": false
  }
 },
 "nbformat": 4,
 "nbformat_minor": 5
}
