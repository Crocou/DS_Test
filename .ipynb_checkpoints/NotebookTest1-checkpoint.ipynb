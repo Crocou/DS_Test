{
 "cells": [
  {
   "cell_type": "markdown",
   "id": "235cde75",
   "metadata": {},
   "source": [
    "# Jupyter Notebook 연습\n",
    "\n",
    "## 파이썬 명령어 실습\n",
    "\n",
    "### 수식표현"
   ]
  },
  {
   "cell_type": "markdown",
   "id": "9f3488c5",
   "metadata": {},
   "source": [
    "1. $ 하나만 양쪽에 배치\n",
    "\n",
    "$\\int_0^\\infty \\mathrm{e}^{-x},\\mathrm{d}x$"
   ]
  },
  {
   "cell_type": "markdown",
   "id": "09b3dd35",
   "metadata": {},
   "source": [
    "2. $ 두 개 양쪽에 배치\n",
    "\n",
    "$$\\int_0^\\infty \\mathrm{e}^{-x},\\mathrm{d}x$$"
   ]
  },
  {
   "cell_type": "markdown",
   "id": "5c0c71ef",
   "metadata": {},
   "source": [
    "### 코드 셀"
   ]
  },
  {
   "cell_type": "code",
   "execution_count": 1,
   "id": "63af4c13",
   "metadata": {},
   "outputs": [],
   "source": [
    "a = 1\n",
    "b = 2\n",
    "c = 3"
   ]
  },
  {
   "cell_type": "markdown",
   "id": "ae11a468",
   "metadata": {},
   "source": [
    "### Testing mysssl.py"
   ]
  },
  {
   "cell_type": "code",
   "execution_count": 2,
   "id": "63b6439a",
   "metadata": {},
   "outputs": [],
   "source": [
    "from myssl import *"
   ]
  },
  {
   "cell_type": "code",
   "execution_count": 3,
   "id": "5b9497b8",
   "metadata": {},
   "outputs": [],
   "source": [
    "l_list = LinkedList()"
   ]
  },
  {
   "cell_type": "code",
   "execution_count": 4,
   "id": "ada3d734",
   "metadata": {},
   "outputs": [],
   "source": [
    "l_list.append(11)"
   ]
  },
  {
   "cell_type": "code",
   "execution_count": 5,
   "id": "b12a92b7",
   "metadata": {},
   "outputs": [],
   "source": [
    "l_list.append(22)"
   ]
  },
  {
   "cell_type": "code",
   "execution_count": 6,
   "id": "1265970a",
   "metadata": {},
   "outputs": [
    {
     "data": {
      "text/plain": [
       "11"
      ]
     },
     "execution_count": 6,
     "metadata": {},
     "output_type": "execute_result"
    }
   ],
   "source": [
    "l_list.first()"
   ]
  },
  {
   "cell_type": "code",
   "execution_count": 7,
   "id": "06f25d14",
   "metadata": {},
   "outputs": [
    {
     "data": {
      "text/plain": [
       "22"
      ]
     },
     "execution_count": 7,
     "metadata": {},
     "output_type": "execute_result"
    }
   ],
   "source": [
    "l_list.next()"
   ]
  },
  {
   "cell_type": "code",
   "execution_count": 8,
   "id": "94b10a4a",
   "metadata": {},
   "outputs": [
    {
     "data": {
      "text/plain": [
       "2"
      ]
     },
     "execution_count": 8,
     "metadata": {},
     "output_type": "execute_result"
    }
   ],
   "source": [
    "l_list.size()"
   ]
  },
  {
   "cell_type": "code",
   "execution_count": 9,
   "id": "8d15b9bb",
   "metadata": {},
   "outputs": [],
   "source": [
    "from myssl import *\n",
    "l_list = LinkedList()\n",
    "l_list.append(10)\n",
    "l_list.append(20)\n",
    "l_list.append(30)\n",
    "l_list.append(40)\n",
    "l_list.append(50)"
   ]
  },
  {
   "cell_type": "code",
   "execution_count": 10,
   "id": "a673ecd7",
   "metadata": {},
   "outputs": [
    {
     "data": {
      "text/plain": [
       "5"
      ]
     },
     "execution_count": 10,
     "metadata": {},
     "output_type": "execute_result"
    }
   ],
   "source": [
    "l_list.size()"
   ]
  },
  {
   "cell_type": "code",
   "execution_count": 11,
   "id": "12e1414c",
   "metadata": {},
   "outputs": [
    {
     "data": {
      "text/plain": [
       "'head -> (10) -> (20) -> (30) -> (40) -> (50) -> null'"
      ]
     },
     "execution_count": 11,
     "metadata": {},
     "output_type": "execute_result"
    }
   ],
   "source": [
    "l_list.traverse_all()"
   ]
  },
  {
   "cell_type": "markdown",
   "id": "bad3e0fe",
   "metadata": {},
   "source": [
    "# 과제"
   ]
  },
  {
   "cell_type": "markdown",
   "id": "c6d736d3",
   "metadata": {},
   "source": [
    "## myssl 실행결과"
   ]
  },
  {
   "cell_type": "code",
   "execution_count": 12,
   "id": "36f9f691",
   "metadata": {},
   "outputs": [],
   "source": [
    "from myssl import *\n",
    "l_list = LinkedList()\n",
    "l_list.append(10)\n",
    "l_list.append(20)\n",
    "l_list.append(30)\n",
    "l_list.append(40)\n",
    "l_list.append(50)"
   ]
  },
  {
   "cell_type": "code",
   "execution_count": 13,
   "id": "010b4dec",
   "metadata": {
    "scrolled": true
   },
   "outputs": [
    {
     "data": {
      "text/plain": [
       "5"
      ]
     },
     "execution_count": 13,
     "metadata": {},
     "output_type": "execute_result"
    }
   ],
   "source": [
    "l_list.size()"
   ]
  },
  {
   "cell_type": "code",
   "execution_count": 14,
   "id": "63a4a4f6",
   "metadata": {},
   "outputs": [
    {
     "data": {
      "text/plain": [
       "'head -> (10) -> (20) -> (30) -> (40) -> (50) -> null'"
      ]
     },
     "execution_count": 14,
     "metadata": {},
     "output_type": "execute_result"
    }
   ],
   "source": [
    "l_list.traverse_all()"
   ]
  },
  {
   "cell_type": "code",
   "execution_count": 15,
   "id": "deab74bb",
   "metadata": {},
   "outputs": [],
   "source": [
    "l_list.insert_at(3, 25)"
   ]
  },
  {
   "cell_type": "code",
   "execution_count": 16,
   "id": "50a05341",
   "metadata": {
    "scrolled": false
   },
   "outputs": [
    {
     "data": {
      "text/plain": [
       "'head -> (10) -> (20) -> (25) -> (30) -> (40) -> (50) -> null'"
      ]
     },
     "execution_count": 16,
     "metadata": {},
     "output_type": "execute_result"
    }
   ],
   "source": [
    "l_list.traverse_all()"
   ]
  },
  {
   "cell_type": "code",
   "execution_count": 17,
   "id": "3f2dbf92",
   "metadata": {},
   "outputs": [
    {
     "name": "stdout",
     "output_type": "stream",
     "text": [
      "25 값의 노드를 삭제합니다.\n"
     ]
    }
   ],
   "source": [
    "l_list.remove(25)"
   ]
  },
  {
   "cell_type": "code",
   "execution_count": 18,
   "id": "03b13c67",
   "metadata": {},
   "outputs": [
    {
     "name": "stdout",
     "output_type": "stream",
     "text": [
      "해당하는 원소가 없습니다.\n"
     ]
    }
   ],
   "source": [
    "l_list.remove(25)"
   ]
  },
  {
   "cell_type": "code",
   "execution_count": 19,
   "id": "4d66ab3b",
   "metadata": {},
   "outputs": [
    {
     "data": {
      "text/plain": [
       "'head -> (10) -> (20) -> (30) -> (40) -> (50) -> null'"
      ]
     },
     "execution_count": 19,
     "metadata": {},
     "output_type": "execute_result"
    }
   ],
   "source": [
    "l_list.traverse_all()"
   ]
  },
  {
   "cell_type": "code",
   "execution_count": 20,
   "id": "626f05c5",
   "metadata": {},
   "outputs": [
    {
     "data": {
      "text/plain": [
       "'head -> (10) -> (20) -> (30) -> (40) -> (50) -> null'"
      ]
     },
     "execution_count": 20,
     "metadata": {},
     "output_type": "execute_result"
    }
   ],
   "source": [
    "l_list.traverse_all()"
   ]
  },
  {
   "cell_type": "markdown",
   "id": "0dc9b81b",
   "metadata": {},
   "source": [
    "## myssl 코드 분석"
   ]
  },
  {
   "cell_type": "markdown",
   "id": "a3ba6622",
   "metadata": {},
   "source": [
    "### traverse_all"
   ]
  },
  {
   "cell_type": "markdown",
   "id": "cf8c8388",
   "metadata": {},
   "source": [
    "이 메소드는 연결 리스트의 모든 노드를 순회하며, 각 노드의 데이터를 출력한다.<br>\n",
    "head부터 tail까지 이동하면서 각 노드의 데이터를 출력하는 메소드이다.<br>\n",
    "출력 형식: head -> (100) -> (72) -> (325) -> null"
   ]
  },
  {
   "cell_type": "markdown",
   "id": "4cf1e9e6",
   "metadata": {},
   "source": [
    "### insert_at"
   ]
  },
  {
   "cell_type": "markdown",
   "id": "88f2d759",
   "metadata": {},
   "source": [
    "이 메소드는 주어진 위치(position)에 새로운 데이터(new_data)를 삽입한다.<br>\n",
    "맨 처음 원소의 위치는 1로 정하며, 0 이하의 위치 값이 입력되면 오류 메시지를 출력한다.<br>\n",
    "입력된 위치 값이 현재 리스트의 크기보다 크다면, 새로운 데이터는 리스트의 맨 뒤에 삽입. "
   ]
  },
  {
   "cell_type": "markdown",
   "id": "6643f4e9",
   "metadata": {},
   "source": [
    "### remove"
   ]
  },
  {
   "cell_type": "markdown",
   "id": "c8fab6c4",
   "metadata": {},
   "source": [
    "이 메소드는 주어진 키 값(key)과 일치하는 원소를 삭제한다. <br>\n",
    "삭제 과정에서 리스트를 순회하면서 키 값과 일치하는 노드를 찾고, 해당 노드를 삭제한 후 리스트를 재구성한다. <br>\n",
    "만약 일치하는 원소가 없다면, \"해당하는 원소가 없습니다.\"라는 문구를 출력한다. "
   ]
  },
  {
   "cell_type": "code",
   "execution_count": null,
   "id": "9850e727",
   "metadata": {},
   "outputs": [],
   "source": []
  }
 ],
 "metadata": {
  "kernelspec": {
   "display_name": "Python 3 (ipykernel)",
   "language": "python",
   "name": "python3"
  },
  "language_info": {
   "codemirror_mode": {
    "name": "ipython",
    "version": 3
   },
   "file_extension": ".py",
   "mimetype": "text/x-python",
   "name": "python",
   "nbconvert_exporter": "python",
   "pygments_lexer": "ipython3",
   "version": "3.10.9"
  },
  "toc": {
   "base_numbering": 1,
   "nav_menu": {},
   "number_sections": true,
   "sideBar": true,
   "skip_h1_title": false,
   "title_cell": "Table of Contents",
   "title_sidebar": "Contents",
   "toc_cell": false,
   "toc_position": {},
   "toc_section_display": true,
   "toc_window_display": false
  },
  "varInspector": {
   "cols": {
    "lenName": 16,
    "lenType": 16,
    "lenVar": 40
   },
   "kernels_config": {
    "python": {
     "delete_cmd_postfix": "",
     "delete_cmd_prefix": "del ",
     "library": "var_list.py",
     "varRefreshCmd": "print(var_dic_list())"
    },
    "r": {
     "delete_cmd_postfix": ") ",
     "delete_cmd_prefix": "rm(",
     "library": "var_list.r",
     "varRefreshCmd": "cat(var_dic_list()) "
    }
   },
   "position": {
    "height": "310.854px",
    "left": "761px",
    "right": "20px",
    "top": "39px",
    "width": "459.667px"
   },
   "types_to_exclude": [
    "module",
    "function",
    "builtin_function_or_method",
    "instance",
    "_Feature"
   ],
   "window_display": false
  }
 },
 "nbformat": 4,
 "nbformat_minor": 5
}
